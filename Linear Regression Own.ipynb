{
 "cells": [
  {
   "cell_type": "code",
   "execution_count": 138,
   "metadata": {},
   "outputs": [],
   "source": [
    "import pandas as pd\n",
    "import numpy as np\n",
    "import matplotlib.pyplot as plt"
   ]
  },
  {
   "cell_type": "code",
   "execution_count": 139,
   "metadata": {},
   "outputs": [
    {
     "data": {
      "text/html": [
       "<div>\n",
       "<style scoped>\n",
       "    .dataframe tbody tr th:only-of-type {\n",
       "        vertical-align: middle;\n",
       "    }\n",
       "\n",
       "    .dataframe tbody tr th {\n",
       "        vertical-align: top;\n",
       "    }\n",
       "\n",
       "    .dataframe thead th {\n",
       "        text-align: right;\n",
       "    }\n",
       "</style>\n",
       "<table border=\"1\" class=\"dataframe\">\n",
       "  <thead>\n",
       "    <tr style=\"text-align: right;\">\n",
       "      <th></th>\n",
       "      <th>X</th>\n",
       "      <th>Y</th>\n",
       "    </tr>\n",
       "  </thead>\n",
       "  <tbody>\n",
       "    <tr>\n",
       "      <th>0</th>\n",
       "      <td>1</td>\n",
       "      <td>3</td>\n",
       "    </tr>\n",
       "    <tr>\n",
       "      <th>1</th>\n",
       "      <td>2</td>\n",
       "      <td>4</td>\n",
       "    </tr>\n",
       "    <tr>\n",
       "      <th>2</th>\n",
       "      <td>3</td>\n",
       "      <td>2</td>\n",
       "    </tr>\n",
       "    <tr>\n",
       "      <th>3</th>\n",
       "      <td>4</td>\n",
       "      <td>4</td>\n",
       "    </tr>\n",
       "    <tr>\n",
       "      <th>4</th>\n",
       "      <td>5</td>\n",
       "      <td>5</td>\n",
       "    </tr>\n",
       "  </tbody>\n",
       "</table>\n",
       "</div>"
      ],
      "text/plain": [
       "   X  Y\n",
       "0  1  3\n",
       "1  2  4\n",
       "2  3  2\n",
       "3  4  4\n",
       "4  5  5"
      ]
     },
     "execution_count": 139,
     "metadata": {},
     "output_type": "execute_result"
    }
   ],
   "source": [
    "dtrain = {'X':[1,2,3,4,5], 'Y':[3,4,2,4,5]}\n",
    "df = pd.DataFrame(data=dtrain)\n",
    "df"
   ]
  },
  {
   "cell_type": "code",
   "execution_count": 140,
   "metadata": {},
   "outputs": [
    {
     "data": {
      "text/plain": [
       "<matplotlib.axes._subplots.AxesSubplot at 0x7fa59c5a12e8>"
      ]
     },
     "execution_count": 140,
     "metadata": {},
     "output_type": "execute_result"
    },
    {
     "data": {
      "image/png": "[encoded data removed]",
      "text/plain": [
       "<Figure size 432x288 with 1 Axes>"
      ]
     },
     "metadata": {},
     "output_type": "display_data"
    }
   ],
   "source": [
    "df.plot(kind=\"scatter\", x=\"X\", y=\"Y\")"
   ]
  },
  {
   "cell_type": "code",
   "execution_count": 141,
   "metadata": {},
   "outputs": [],
   "source": [
    "class LinearRegression:\n",
    "    \n",
    "    def __init__(self):\n",
    "        self.m = 0\n",
    "        self.c = 0\n",
    "        print(\"Object has been created\")\n",
    "        \n",
    "    def fit(self,df):\n",
    "        '''m = sum((x-meanX)(y-meanY))/sum((x-meanX)^2)'''\n",
    "        '''c = meanY-(m*meanX)'''\n",
    "        meanX = np.mean(df['X'])\n",
    "        meanY = np.mean(df['Y'])\n",
    "        num = np.sum( (df['X']-meanX) * (df['Y']-meanY) )\n",
    "        den = np.sum( (df['X']-meanX) ** 2 )\n",
    "        self.m = num/den\n",
    "        self.c = meanY-(self.m*meanX)\n",
    "        print(\"Done\")\n",
    "        print(\"Y = {0}X+{1}\".format(self.m,self.c))\n",
    "    \n",
    "    def predict(self,xdf):\n",
    "        ypred = [(self.m*val)+self.c for val in xdf['X']]\n",
    "        xdf.plot(kind=\"scatter\", x='X', y='Y', color='r')\n",
    "        plt.plot(xdf['X'], ypred, marker='o', color='b')\n",
    "        return pd.DataFrame(data=ypred)\n",
    "    "
   ]
  },
  {
   "cell_type": "code",
   "execution_count": 142,
   "metadata": {},
   "outputs": [
    {
     "name": "stdout",
     "output_type": "stream",
     "text": [
      "Object has been created\n",
      "Done\n",
      "Y = 0.4X+2.4\n"
     ]
    }
   ],
   "source": [
    "#Build Model\n",
    "model = LinearRegression()\n",
    "model.fit(df)"
   ]
  },
  {
   "cell_type": "code",
   "execution_count": 143,
   "metadata": {},
   "outputs": [
    {
     "data": {
      "image/png": "[encoded data removed]",
      "text/plain": [
       "<Figure size 432x288 with 1 Axes>"
      ]
     },
     "metadata": {},
     "output_type": "display_data"
    }
   ],
   "source": [
    "#Predict\n",
    "ypred = model.predict(df)"
   ]
  },
  {
   "cell_type": "markdown",
   "metadata": {},
   "source": [
    "<p>Here, <b style=\"color:red;\">Red</b> points are the actual values and <b style=\"color:red;\">Blue</b> points are the predicted values</p>"
   ]
  },
  {
   "cell_type": "markdown",
   "metadata": {},
   "source": [
    "<h3>Checking goodness of fit using R<sup>2</sup></h3>\n",
    "<p>R-squared value is a statistical measure of how close the data are to the fitted regression line</p>"
   ]
  },
  {
   "cell_type": "code",
   "execution_count": 144,
   "metadata": {},
   "outputs": [
    {
     "name": "stdout",
     "output_type": "stream",
     "text": [
      "0    0.307692\n",
      "dtype: float64\n"
     ]
    }
   ],
   "source": [
    "#calculate performance with R^2\n",
    "def Rsquare(df,ypred):\n",
    "        '''R^2 = sum[(Ypred-Ymean)^2]/sum[(Y-Ymean)^2]'''\n",
    "        num = np.sum((ypred-np.mean(df['Y']))**2)\n",
    "        den = np.sum((df['Y']-np.mean(df['Y']))**2)\n",
    "        return num/den\n",
    "print(Rsquare(df,ypred))        "
   ]
  }
 ],
 "metadata": {
  "kernelspec": {
   "display_name": "Python 3",
   "language": "python",
   "name": "python3"
  },
  "language_info": {
   "codemirror_mode": {
    "name": "ipython",
    "version": 3
   },
   "file_extension": ".py",
   "mimetype": "text/x-python",
   "name": "python",
   "nbconvert_exporter": "python",
   "pygments_lexer": "ipython3",
   "version": "3.6.5"
  }
 },
 "nbformat": 4,
 "nbformat_minor": 2
}
