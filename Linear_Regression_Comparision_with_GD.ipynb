{
  "nbformat": 4,
  "nbformat_minor": 0,
  "metadata": {
    "colab": {
      "name": "Linear Regression Comparision with GD.ipynb",
      "version": "0.3.2",
      "provenance": [],
      "collapsed_sections": [],
      "include_colab_link": true
    },
    "kernelspec": {
      "name": "python3",
      "display_name": "Python 3"
    }
  },
  "cells": [
    {
      "cell_type": "markdown",
      "metadata": {
        "id": "view-in-github",
        "colab_type": "text"
      },
      "source": [
        "<a href=\"https://colab.research.google.com/github/SwamySriharsha/Regression/blob/master/Linear_Regression_Comparision_with_GD.ipynb\" target=\"_parent\"><img src=\"https://colab.research.google.com/assets/colab-badge.svg\" alt=\"Open In Colab\"/></a>"
      ]
    },
    {
      "metadata": {
        "id": "xlJEJcCm56Tr",
        "colab_type": "code",
        "colab": {}
      },
      "cell_type": "code",
      "source": [
        "import pandas as pd\n",
        "import numpy as np\n",
        "import matplotlib.pyplot as plt"
      ],
      "execution_count": 0,
      "outputs": []
    },
    {
      "metadata": {
        "id": "FvnxbXFY6HG2",
        "colab_type": "code",
        "colab": {
          "base_uri": "https://localhost:8080/",
          "height": 206
        },
        "outputId": "bd502835-2969-4643-d667-00a10836b9f6"
      },
      "cell_type": "code",
      "source": [
        "dtrain = {'X':[1,2,3,4,5], 'Y':[3,4,2,4,5]}\n",
        "df = pd.DataFrame(data=dtrain)\n",
        "df"
      ],
      "execution_count": 4,
      "outputs": [
        {
          "output_type": "execute_result",
          "data": {
            "text/html": [
              "<div>\n",
              "<style scoped>\n",
              "    .dataframe tbody tr th:only-of-type {\n",
              "        vertical-align: middle;\n",
              "    }\n",
              "\n",
              "    .dataframe tbody tr th {\n",
              "        vertical-align: top;\n",
              "    }\n",
              "\n",
              "    .dataframe thead th {\n",
              "        text-align: right;\n",
              "    }\n",
              "</style>\n",
              "<table border=\"1\" class=\"dataframe\">\n",
              "  <thead>\n",
              "    <tr style=\"text-align: right;\">\n",
              "      <th></th>\n",
              "      <th>X</th>\n",
              "      <th>Y</th>\n",
              "    </tr>\n",
              "  </thead>\n",
              "  <tbody>\n",
              "    <tr>\n",
              "      <th>0</th>\n",
              "      <td>1</td>\n",
              "      <td>3</td>\n",
              "    </tr>\n",
              "    <tr>\n",
              "      <th>1</th>\n",
              "      <td>2</td>\n",
              "      <td>4</td>\n",
              "    </tr>\n",
              "    <tr>\n",
              "      <th>2</th>\n",
              "      <td>3</td>\n",
              "      <td>2</td>\n",
              "    </tr>\n",
              "    <tr>\n",
              "      <th>3</th>\n",
              "      <td>4</td>\n",
              "      <td>4</td>\n",
              "    </tr>\n",
              "    <tr>\n",
              "      <th>4</th>\n",
              "      <td>5</td>\n",
              "      <td>5</td>\n",
              "    </tr>\n",
              "  </tbody>\n",
              "</table>\n",
              "</div>"
            ],
            "text/plain": [
              "   X  Y\n",
              "0  1  3\n",
              "1  2  4\n",
              "2  3  2\n",
              "3  4  4\n",
              "4  5  5"
            ]
          },
          "metadata": {
            "tags": []
          },
          "execution_count": 4
        }
      ]
    },
    {
      "metadata": {
        "id": "brOuDKQw6KBH",
        "colab_type": "code",
        "colab": {
          "base_uri": "https://localhost:8080/",
          "height": 378
        },
        "outputId": "be8a909e-1c15-4844-f182-c080f4959da5"
      },
      "cell_type": "code",
      "source": [
        "df.plot(kind=\"scatter\", x=\"X\", y=\"Y\")\n"
      ],
      "execution_count": 6,
      "outputs": [
        {
          "output_type": "execute_result",
          "data": {
            "text/plain": [
              "<matplotlib.axes._subplots.AxesSubplot at 0x7f9d1d5e8588>"
            ]
          },
          "metadata": {
            "tags": []
          },
          "execution_count": 6
        },
        {
          "output_type": "display_data",
          "data": {
            "image/png": "[encoded data removed]",
            "text/plain": [
              "<matplotlib.figure.Figure at 0x7f9d1d664208>"
            ]
          },
          "metadata": {
            "tags": []
          }
        }
      ]
    },
    {
      "metadata": {
        "id": "SPkcj5C2LGiT",
        "colab_type": "text"
      },
      "cell_type": "markdown",
      "source": [
        "# **Linear Regression using GRADIENT DESCENT**"
      ]
    },
    {
      "metadata": {
        "id": "1Jq3vVKs6Mzn",
        "colab_type": "code",
        "colab": {
          "base_uri": "https://localhost:8080/",
          "height": 52
        },
        "outputId": "5f0f6242-3aa3-4a49-c836-2d4283157020"
      },
      "cell_type": "code",
      "source": [
        "def compute_error(m,c):\n",
        "  '''It computes sum of squared error'''\n",
        "  sse = 0\n",
        "  for i,r in df.iterrows():\n",
        "    sse += (r['Y'] - (m*r['X'] + c))**2\n",
        "  return sse \n",
        "\n",
        "\n",
        "def find_newGrad(m, c, learning_rate):\n",
        "  '''\n",
        "  new m = (old m) - (learning_rate * [doe(f)/doe(m)] at old m)\n",
        "  new c = (old c) - (learning_rate * [doe(f)/doe(c)] at old c)\n",
        "  \n",
        "  '''\n",
        "  diffm = 0\n",
        "  diffc = 0\n",
        "  for i in range(len(df)):\n",
        "    diffm += -2*df['X'][i]*(df['Y'][i]-(m*df['X'][i] + c)) #[doe(f)/doe(m)] at old m\n",
        "    diffc += -2*(df['Y'][i]-(m*df['X'][i] + c)) #[doe(f)/doe(c)] at old c\n",
        "  newm = m - learning_rate*diffm #update equation for m\n",
        "  newc = c - learning_rate*diffc #update equation for c\n",
        "  cvM = abs(newm-m)\n",
        "  cvC = abs(newc-c)\n",
        "  return newm,newc,cvM,cvC \n",
        "\n",
        "\n",
        "def gradient_descent(m_initial, c_initial, learning_rate):\n",
        "  m = m_initial\n",
        "  c = c_initial\n",
        "  cvM = 1\n",
        "  cvC = 1\n",
        "  converge_limit = 0.0\n",
        "  \n",
        "  i=0\n",
        "  while(cvM > converge_limit and cvC > converge_limit):\n",
        "    m,c,cvM,cvC = find_newGrad(m, c, learning_rate)\n",
        "    i=i+1\n",
        "    \n",
        "  sse = compute_error(m,c)\n",
        "  return m,c,sse,i\n",
        "\n",
        "\n",
        "def run():\n",
        "  \n",
        "  #set parameters\n",
        "  learning_rate = 0.01 #try for different learning rates\n",
        "  m_initial = 0 #assuming initial m value as 0\n",
        "  c_initial = 0 #assuming initial c value as 0\n",
        "  \n",
        "  sse_initial = compute_error(m_initial,c_initial) #computing SSE with initial m and c values\n",
        "  print(\"m is {0}, c is {1}, sse is {2}\".format(m_initial,c_initial,sse_initial))\n",
        "  \n",
        "  m,c,sse,i = gradient_descent(m_initial, c_initial, learning_rate)\n",
        "  print(\"m is {0}, c is {1}, sse is {2}, iters are {3}\".format(m,c,sse,i))\n",
        "\n",
        "if __name__ == \"__main__\":\n",
        "  run()"
      ],
      "execution_count": 75,
      "outputs": [
        {
          "output_type": "stream",
          "text": [
            "m is 0, c is 0, sse is 70\n",
            "m is 0.40000000000000613, c is 2.399999999999978, sse is 3.599999999999999, iters are 1893\n"
          ],
          "name": "stdout"
        }
      ]
    },
    {
      "metadata": {
        "id": "9D4z6XaJLSq0",
        "colab_type": "text"
      },
      "cell_type": "markdown",
      "source": [
        "# **Normal Linear Regression**"
      ]
    },
    {
      "metadata": {
        "id": "A31Ll8G5KGyu",
        "colab_type": "code",
        "colab": {}
      },
      "cell_type": "code",
      "source": [
        "class LinearRegression:\n",
        "    \n",
        "    def __init__(self):\n",
        "        self.m = 0\n",
        "        self.c = 0\n",
        "        #print(\"Object has been created\")\n",
        "        \n",
        "    def fit(self,df):\n",
        "        '''m = sum((x-meanX)(y-meanY))/sum((x-meanX)^2)'''\n",
        "        '''c = meanY-(m*meanX)'''\n",
        "        meanX = np.mean(df['X'])\n",
        "        meanY = np.mean(df['Y'])\n",
        "        num = np.sum( (df['X']-meanX) * (df['Y']-meanY) )\n",
        "        den = np.sum( (df['X']-meanX) ** 2 )\n",
        "        self.m = num/den\n",
        "        self.c = meanY-(self.m*meanX)\n",
        "        #print(\"Done\")\n",
        "        print(\"m is {0}, c is {1}\".format(self.m,self.c), end=\", \")\n",
        "        sse = compute_error(self.m,self.c)\n",
        "        print(\"sse is {0}\".format(sse))\n",
        "    \n",
        "    def predict(self,xdf):\n",
        "        ypred = [(self.m*val)+self.c for val in xdf['X']]\n",
        "        xdf.plot(kind=\"scatter\", x='X', y='Y', color='r')\n",
        "        plt.plot(xdf['X'], ypred, marker='o', color='b')\n",
        "        return pd.DataFrame(data=ypred)"
      ],
      "execution_count": 0,
      "outputs": []
    },
    {
      "metadata": {
        "id": "kpdffPLFKMJp",
        "colab_type": "code",
        "colab": {
          "base_uri": "https://localhost:8080/",
          "height": 34
        },
        "outputId": "73fc2d5f-ec35-4fa3-81a3-fff251c1da63"
      },
      "cell_type": "code",
      "source": [
        "#Build Model\n",
        "model = LinearRegression()\n",
        "model.fit(df)"
      ],
      "execution_count": 90,
      "outputs": [
        {
          "output_type": "stream",
          "text": [
            "m is 0.4, c is 2.4, sse is 3.5999999999999996\n"
          ],
          "name": "stdout"
        }
      ]
    }
  ]
}